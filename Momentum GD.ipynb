{
 "cells": [
  {
   "cell_type": "markdown",
   "metadata": {},
   "source": [
    "# 2-D Function Optimization"
   ]
  },
  {
   "cell_type": "code",
   "execution_count": 1,
   "metadata": {},
   "outputs": [],
   "source": [
    "import math\n",
    "import numpy as np\n",
    "%matplotlib inline\n",
    "import matplotlib.pyplot as plt\n",
    "import matplotlib.animation as animation\n",
    "import random\n",
    "from IPython.display import HTML"
   ]
  },
  {
   "cell_type": "markdown",
   "metadata": {},
   "source": [
    "# Optimization of function \n",
    "$ f(x) = x^{2} $"
   ]
  },
  {
   "cell_type": "code",
   "execution_count": 2,
   "metadata": {},
   "outputs": [],
   "source": [
    "def func2d(x):\n",
    "    #return math.log(1 + math.fabs(x)**(2+math.sin(x)))\n",
    "    return x**2"
   ]
  },
  {
   "cell_type": "code",
   "execution_count": 3,
   "metadata": {},
   "outputs": [],
   "source": [
    "xmin,xmax,xstep = -10.5,10.5,0.2\n",
    "x_points = np.arange(xmin,xmax,xstep)\n",
    "f_x_2d = []\n",
    "for i in range(0,len(x_points)):\n",
    "    f_x_2d.append(func2d(x_points[i]))"
   ]
  },
  {
   "cell_type": "markdown",
   "metadata": {},
   "source": [
    "# Pick a starting Point & Define minima of the function"
   ]
  },
  {
   "cell_type": "code",
   "execution_count": 4,
   "metadata": {},
   "outputs": [
    {
     "name": "stdout",
     "output_type": "stream",
     "text": [
      "X0 : -8\n",
      "Minima : 0.00\n"
     ]
    }
   ],
   "source": [
    "#x0 = random.randint(int(xmin),int(xmax))\n",
    "x0 = -8\n",
    "minima_x = 0\n",
    "print('X0 : %d'%(x0))\n",
    "print('Minima : %.2f'%(func2d(minima_x)))"
   ]
  },
  {
   "cell_type": "markdown",
   "metadata": {},
   "source": [
    "# Plot Function Surface"
   ]
  },
  {
   "cell_type": "code",
   "execution_count": 5,
   "metadata": {},
   "outputs": [
    {
     "data": {
      "image/png": "[encoded data removed]",
      "text/plain": [
       "<Figure size 432x288 with 1 Axes>"
      ]
     },
     "metadata": {
      "needs_background": "light"
     },
     "output_type": "display_data"
    }
   ],
   "source": [
    "plt.plot(x_points,f_x_2d)\n",
    "plt.xlabel('x')\n",
    "plt.plot(x0,func2d(x0),'r*',markersize=10,label='Starting Point')\n",
    "plt.plot(minima_x,func2d(minima_x),'*',markersize=10,label='Minima')\n",
    "plt.legend()\n",
    "plt.ylabel('F(x)')\n",
    "plt.show()"
   ]
  },
  {
   "cell_type": "markdown",
   "metadata": {},
   "source": [
    "# Build Computation Graph for Automatic Differentiation using PyTorch"
   ]
  },
  {
   "cell_type": "code",
   "execution_count": 6,
   "metadata": {},
   "outputs": [],
   "source": [
    "import torch\n",
    "from IPython import display\n",
    "import time\n",
    "\n",
    "epochs = 200\n",
    "learning_rate = 0.01\n",
    "path_x, path_fx, vel_track = [], [], []\n",
    "gamma = 0.9\n",
    "\n",
    "# make sure you set initial point correctly\n",
    "x = torch.tensor(x0,dtype=torch.float32,requires_grad=True)\n",
    "optimizer = torch.optim.SGD([x],lr=learning_rate,momentum=gamma)\n",
    "\n",
    "for epoch in range(0,epochs):\n",
    "    \n",
    "    # loss\n",
    "    loss = (x)**2\n",
    "\n",
    "    # calculate gradients\n",
    "    loss.backward()\n",
    "    \n",
    "    optimizer.step()\n",
    "    \n",
    "    with torch.no_grad():\n",
    "        x_numpy = x.detach().numpy()\n",
    "        path_x.append(np.copy(x_numpy))\n",
    "        path_fx.append(func2d(np.copy(x_numpy)))\n",
    "    \n",
    "    x.grad.data.zero_()"
   ]
  },
  {
   "cell_type": "code",
   "execution_count": 7,
   "metadata": {},
   "outputs": [
    {
     "data": {
      "image/png": "[encoded data removed]",
      "text/plain": [
       "<Figure size 432x288 with 1 Axes>"
      ]
     },
     "metadata": {
      "needs_background": "light"
     },
     "output_type": "display_data"
    }
   ],
   "source": [
    "fig = plt.figure()\n",
    "ax = fig.add_subplot(111,xlim=(-10,10),ylim=(-5,100))\n",
    "ax.grid()\n",
    "\n",
    "surface, = ax.plot([],[],label='Surface of $x^{2}$, Step Size : '+(str(learning_rate)),color='red')\n",
    "path, = ax.plot([],[],color='black',linewidth=4)\n",
    "dot, = ax.plot([],[],'o',color='purple')\n",
    "ax.set_xlabel('$x$')\n",
    "ax.set_ylabel('$f(x,y)$')\n",
    "ax.set_title('SGD with Momentum')\n",
    "ax.legend()\n",
    "\n",
    "def init():\n",
    "    surface.set_data([],[])\n",
    "    path.set_data([],[])\n",
    "    dot.set_data([],[])\n",
    "    ax.set_xlabel('$x$')\n",
    "    ax.set_ylabel('$f(x,y)$')\n",
    "    return surface,path,dot\n",
    "    \n",
    "def animate(i):\n",
    "    \n",
    "    #ax.clear()\n",
    "    surface.set_data(x_points,f_x_2d)\n",
    "    path.set_data(path_x[0:i],path_fx[0:i])\n",
    "    dot.set_data([path_x[i]],[path_fx[i]])\n",
    "\n",
    "    return surface,path,dot\n",
    "\n",
    "ani = animation.FuncAnimation(fig,animate,frames=len(path_x),init_func=init,interval=60,repeat=False)\n",
    "plt.show()"
   ]
  },
  {
   "cell_type": "code",
   "execution_count": 8,
   "metadata": {},
   "outputs": [],
   "source": [
    "#HTML(ani.to_html5_video())"
   ]
  },
  {
   "cell_type": "code",
   "execution_count": 9,
   "metadata": {},
   "outputs": [],
   "source": [
    "#ani.save('Images/convex_surface_momentum.gif',writer='imagemagick')"
   ]
  },
  {
   "cell_type": "markdown",
   "metadata": {},
   "source": [
    "# Optimization of function\n",
    "$ f(x) = log( 1 + |x| ) ^ {2 + sin(x)} $"
   ]
  },
  {
   "cell_type": "code",
   "execution_count": 10,
   "metadata": {},
   "outputs": [],
   "source": [
    "def func2d(x):\n",
    "    return math.log(1 + math.fabs(x)**(2+math.sin(x)))"
   ]
  },
  {
   "cell_type": "code",
   "execution_count": 11,
   "metadata": {},
   "outputs": [],
   "source": [
    "xmin,xmax,xstep = -10.5,10.5,0.2\n",
    "x_points = np.arange(xmin,xmax,xstep)\n",
    "f_x_2d = []\n",
    "for i in range(0,len(x_points)):\n",
    "    f_x_2d.append(func2d(x_points[i]))"
   ]
  },
  {
   "cell_type": "markdown",
   "metadata": {},
   "source": [
    "# Pick a starting Point & Define minima of the function"
   ]
  },
  {
   "cell_type": "code",
   "execution_count": 12,
   "metadata": {},
   "outputs": [
    {
     "name": "stdout",
     "output_type": "stream",
     "text": [
      "X0 : 7\n",
      "Minima : 0.00\n"
     ]
    }
   ],
   "source": [
    "x0 = random.randint(int(xmin),int(xmax))\n",
    "x0 = 7\n",
    "minima_x = 0\n",
    "print('X0 : %d'%(x0))\n",
    "print('Minima : %.2f'%(func2d(minima_x)))"
   ]
  },
  {
   "cell_type": "markdown",
   "metadata": {},
   "source": [
    "# Ploting surface of the function"
   ]
  },
  {
   "cell_type": "code",
   "execution_count": 13,
   "metadata": {},
   "outputs": [
    {
     "data": {
      "image/png": "[encoded data removed]",
      "text/plain": [
       "<Figure size 432x288 with 1 Axes>"
      ]
     },
     "metadata": {
      "needs_background": "light"
     },
     "output_type": "display_data"
    }
   ],
   "source": [
    "plt.plot(x_points,f_x_2d)\n",
    "plt.xlabel('x')\n",
    "plt.plot(x0,func2d(x0),'r*',markersize=10,label='Starting Point')\n",
    "plt.plot(minima_x,func2d(minima_x),'*',markersize=10,label='Minima')\n",
    "plt.legend()\n",
    "plt.ylabel('F(x)')\n",
    "plt.show()"
   ]
  },
  {
   "cell_type": "code",
   "execution_count": 14,
   "metadata": {},
   "outputs": [],
   "source": [
    "import torch\n",
    "from IPython import display\n",
    "import time\n",
    "\n",
    "epochs = 300\n",
    "learning_rate = 0.01\n",
    "path_x, path_fx, vel_track = [], [], []\n",
    "gamma = 0.9\n",
    "\n",
    "# make sure you set initial point correctly\n",
    "x = torch.tensor(x0,dtype=torch.float32,requires_grad=True)\n",
    "optimizer = torch.optim.SGD([x],lr=learning_rate,momentum=gamma)\n",
    "\n",
    "for epoch in range(0,epochs):\n",
    "    \n",
    "    # loss\n",
    "    loss = torch.log(1 + (torch.abs(x)**(2 + torch.sin(x))))\n",
    "    \n",
    "    # calculate gradients\n",
    "    loss.backward()\n",
    "    \n",
    "    # Update params\n",
    "    optimizer.step()\n",
    "    \n",
    "    with torch.no_grad():\n",
    "        x_numpy = x.detach().numpy()\n",
    "        path_x.append(np.copy(x_numpy))\n",
    "        path_fx.append(func2d(np.copy(x_numpy)))\n",
    "    \n",
    "    # make gradients zeros\n",
    "    x.grad.data.zero_()"
   ]
  },
  {
   "cell_type": "code",
   "execution_count": 15,
   "metadata": {},
   "outputs": [
    {
     "data": {
      "image/png": "[encoded data removed]",
      "text/plain": [
       "<Figure size 432x288 with 1 Axes>"
      ]
     },
     "metadata": {
      "needs_background": "light"
     },
     "output_type": "display_data"
    }
   ],
   "source": [
    "fig = plt.figure()\n",
    "ax = fig.add_subplot(111,xlim=(-10,10),ylim=(0,7))\n",
    "ax.grid()\n",
    "\n",
    "surface, = ax.plot([],[],label='Surface of $f(x) = log( 1 + |x| ) ^ {2 + sin(x)}$, Step Size : '+(str(learning_rate)),color='red')\n",
    "path, = ax.plot([],[],color='black',linewidth=4)\n",
    "dot, = ax.plot([],[],'o',color='purple')\n",
    "ax.set_xlabel('$x$')\n",
    "ax.set_ylabel('$f(x,y)$')\n",
    "ax.set_title('SGD with Momentum')\n",
    "ax.legend()\n",
    "\n",
    "def init():\n",
    "    surface.set_data([],[])\n",
    "    path.set_data([],[])\n",
    "    dot.set_data([],[])\n",
    "    ax.set_xlabel('$x$')\n",
    "    ax.set_ylabel('$f(x,y)$')\n",
    "    return surface,path,dot\n",
    "    \n",
    "def animate(i):\n",
    "    \n",
    "    #ax.clear()\n",
    "    surface.set_data(x_points,f_x_2d)\n",
    "    path.set_data(path_x[0:i],path_fx[0:i])\n",
    "    dot.set_data([path_x[i]],[path_fx[i]])\n",
    "\n",
    "    return surface,path,dot\n",
    "\n",
    "ani = animation.FuncAnimation(fig,animate,frames=len(path_x),init_func=init,interval=60,repeat=False)\n",
    "plt.show()"
   ]
  },
  {
   "cell_type": "code",
   "execution_count": 16,
   "metadata": {},
   "outputs": [
    {
     "ename": "RuntimeError",
     "evalue": "Requested MovieWriter (ffmpeg) not available",
     "output_type": "error",
     "traceback": [
      "\u001b[1;31m---------------------------------------------------------------------------\u001b[0m",
      "\u001b[1;31mRuntimeError\u001b[0m                              Traceback (most recent call last)",
      "\u001b[1;32m<ipython-input-16-f47e5100e4fd>\u001b[0m in \u001b[0;36m<module>\u001b[1;34m\u001b[0m\n\u001b[1;32m----> 1\u001b[1;33m \u001b[0mHTML\u001b[0m\u001b[1;33m(\u001b[0m\u001b[0mani\u001b[0m\u001b[1;33m.\u001b[0m\u001b[0mto_html5_video\u001b[0m\u001b[1;33m(\u001b[0m\u001b[1;33m)\u001b[0m\u001b[1;33m)\u001b[0m\u001b[1;33m\u001b[0m\u001b[1;33m\u001b[0m\u001b[0m\n\u001b[0m",
      "\u001b[1;32m~\\anaconda3\\envs\\deepL_TF\\lib\\site-packages\\matplotlib\\animation.py\u001b[0m in \u001b[0;36mto_html5_video\u001b[1;34m(self, embed_limit)\u001b[0m\n\u001b[0;32m   1326\u001b[0m                 \u001b[1;31m# We create a writer manually so that we can get the\u001b[0m\u001b[1;33m\u001b[0m\u001b[1;33m\u001b[0m\u001b[1;33m\u001b[0m\u001b[0m\n\u001b[0;32m   1327\u001b[0m                 \u001b[1;31m# appropriate size for the tag\u001b[0m\u001b[1;33m\u001b[0m\u001b[1;33m\u001b[0m\u001b[1;33m\u001b[0m\u001b[0m\n\u001b[1;32m-> 1328\u001b[1;33m                 \u001b[0mWriter\u001b[0m \u001b[1;33m=\u001b[0m \u001b[0mwriters\u001b[0m\u001b[1;33m[\u001b[0m\u001b[0mrcParams\u001b[0m\u001b[1;33m[\u001b[0m\u001b[1;34m'animation.writer'\u001b[0m\u001b[1;33m]\u001b[0m\u001b[1;33m]\u001b[0m\u001b[1;33m\u001b[0m\u001b[1;33m\u001b[0m\u001b[0m\n\u001b[0m\u001b[0;32m   1329\u001b[0m                 writer = Writer(codec='h264',\n\u001b[0;32m   1330\u001b[0m                                 \u001b[0mbitrate\u001b[0m\u001b[1;33m=\u001b[0m\u001b[0mrcParams\u001b[0m\u001b[1;33m[\u001b[0m\u001b[1;34m'animation.bitrate'\u001b[0m\u001b[1;33m]\u001b[0m\u001b[1;33m,\u001b[0m\u001b[1;33m\u001b[0m\u001b[1;33m\u001b[0m\u001b[0m\n",
      "\u001b[1;32m~\\anaconda3\\envs\\deepL_TF\\lib\\site-packages\\matplotlib\\animation.py\u001b[0m in \u001b[0;36m__getitem__\u001b[1;34m(self, name)\u001b[0m\n\u001b[0;32m    162\u001b[0m         \u001b[1;32mif\u001b[0m \u001b[0mself\u001b[0m\u001b[1;33m.\u001b[0m\u001b[0mis_available\u001b[0m\u001b[1;33m(\u001b[0m\u001b[0mname\u001b[0m\u001b[1;33m)\u001b[0m\u001b[1;33m:\u001b[0m\u001b[1;33m\u001b[0m\u001b[1;33m\u001b[0m\u001b[0m\n\u001b[0;32m    163\u001b[0m             \u001b[1;32mreturn\u001b[0m \u001b[0mself\u001b[0m\u001b[1;33m.\u001b[0m\u001b[0m_registered\u001b[0m\u001b[1;33m[\u001b[0m\u001b[0mname\u001b[0m\u001b[1;33m]\u001b[0m\u001b[1;33m\u001b[0m\u001b[1;33m\u001b[0m\u001b[0m\n\u001b[1;32m--> 164\u001b[1;33m         \u001b[1;32mraise\u001b[0m \u001b[0mRuntimeError\u001b[0m\u001b[1;33m(\u001b[0m\u001b[1;34mf\"Requested MovieWriter ({name}) not available\"\u001b[0m\u001b[1;33m)\u001b[0m\u001b[1;33m\u001b[0m\u001b[1;33m\u001b[0m\u001b[0m\n\u001b[0m\u001b[0;32m    165\u001b[0m \u001b[1;33m\u001b[0m\u001b[0m\n\u001b[0;32m    166\u001b[0m \u001b[1;33m\u001b[0m\u001b[0m\n",
      "\u001b[1;31mRuntimeError\u001b[0m: Requested MovieWriter (ffmpeg) not available"
     ]
    }
   ],
   "source": [
    "HTML(ani.to_html5_video())"
   ]
  },
  {
   "cell_type": "code",
   "execution_count": null,
   "metadata": {},
   "outputs": [],
   "source": [
    "ani.save('Images/non_convex_momentum.gif',writer='imagemagick')"
   ]
  },
  {
   "cell_type": "markdown",
   "metadata": {},
   "source": [
    "# 3D function optimization"
   ]
  },
  {
   "cell_type": "code",
   "execution_count": null,
   "metadata": {},
   "outputs": [],
   "source": [
    "f  = lambda x, y: (x**2) - (y**2)"
   ]
  },
  {
   "cell_type": "code",
   "execution_count": null,
   "metadata": {},
   "outputs": [],
   "source": [
    "xmin,xmax,xstep = -4.5,4.5,0.2\n",
    "ymin,ymax,ystep = -4.5,4.5,0.2"
   ]
  },
  {
   "cell_type": "code",
   "execution_count": null,
   "metadata": {},
   "outputs": [],
   "source": [
    "x,y = np.meshgrid(np.arange(xmin,xmax,xstep),np.arange(ymin,ymax,ystep))\n",
    "z = f(x,y)"
   ]
  },
  {
   "cell_type": "code",
   "execution_count": null,
   "metadata": {},
   "outputs": [],
   "source": [
    "from mpl_toolkits.mplot3d import Axes3D"
   ]
  },
  {
   "cell_type": "markdown",
   "metadata": {},
   "source": [
    "# Pick a starting Point & Define minima of the function"
   ]
  },
  {
   "cell_type": "code",
   "execution_count": null,
   "metadata": {},
   "outputs": [],
   "source": [
    "x0 = -3\n",
    "y0 = -0.1\n",
    "print('X0 : %.2f, Y0 : %.2f '%(x0,y0))"
   ]
  },
  {
   "cell_type": "markdown",
   "metadata": {},
   "source": [
    "# Plot function surface"
   ]
  },
  {
   "cell_type": "code",
   "execution_count": null,
   "metadata": {},
   "outputs": [],
   "source": [
    "fig = plt.figure(figsize=(15,10))\n",
    "ax = plt.axes(projection='3d')\n",
    "ax.plot_surface(x,y,z,cmap='viridis')\n",
    "ax.plot([x0],[y0],[f(x0,y0)],'r*',markersize=10)\n",
    "ax.set_title('Surface of $f(x,y) = x^{2} - y^{2}$')\n",
    "ax.set_xlabel('$x$')\n",
    "ax.set_ylabel('$y$')\n",
    "ax.set_zlabel('$f(x,y)$')"
   ]
  },
  {
   "cell_type": "code",
   "execution_count": null,
   "metadata": {},
   "outputs": [],
   "source": [
    "import torch\n",
    "from IPython import display\n",
    "import time\n",
    "\n",
    "epochs = 180\n",
    "learning_rate = 0.01\n",
    "\n",
    "path_x, path_y, path_fxy = [], [], []\n",
    "gamma = 0.9\n",
    "\n",
    "# make sure you set initial point correctly\n",
    "x_torch = torch.tensor(x0,dtype=torch.float32,requires_grad=True)\n",
    "y_torch = torch.tensor(y0,dtype=torch.float32,requires_grad=True)\n",
    "\n",
    "optimizer = torch.optim.SGD([x_torch,y_torch],lr=learning_rate,momentum=gamma)\n",
    "\n",
    "for epoch in range(0,epochs):\n",
    "    \n",
    "    # objective function\n",
    "    loss = (x_torch**2) - (y_torch**2)\n",
    "    \n",
    "    # backward\n",
    "    loss.backward()\n",
    "    \n",
    "    # Update params\n",
    "    optimizer.step()\n",
    "    \n",
    "    with torch.no_grad():\n",
    "        x_numpy = x_torch.detach().numpy()\n",
    "        y_numpy = y_torch.detach().numpy()\n",
    "        \n",
    "        path_x.append(np.copy(x_numpy))\n",
    "        path_y.append(np.copy(y_numpy))\n",
    "        path_fxy.append(np.copy(f(x_numpy,y_numpy)))\n",
    "    \n",
    "    # make gradients zero\n",
    "    x_torch.grad.data.zero_()\n",
    "    y_torch.grad.data.zero_()"
   ]
  },
  {
   "cell_type": "code",
   "execution_count": null,
   "metadata": {},
   "outputs": [],
   "source": [
    "fig = plt.figure(figsize=(12,8))\n",
    "ax = plt.axes(projection='3d')\n",
    "ax.set_title('Surface of $f(x,y) = x^{2} - y^{2}$')\n",
    "ax.set_xlabel('$x$')\n",
    "ax.set_ylabel('$y$')\n",
    "ax.set_zlabel('$f(x,y)$')\n",
    "ax.set_title('SGD with Momentum')\n",
    "\n",
    "ax.plot_surface(x,y,z,cmap='viridis')\n",
    "\n",
    "start, = ax.plot([],[],[],'r*',markersize=10)\n",
    "path, = ax.plot([],[],[],linewidth=2,color='black')\n",
    "dot, = ax.plot([],[],'o',color='purple')\n",
    "\n",
    "def init():\n",
    "    \n",
    "    start.set_data([],[])\n",
    "    start.set_3d_properties([])\n",
    "    path.set_data([],[])\n",
    "    path.set_3d_properties([])\n",
    "    dot.set_data([],[])\n",
    "    dot.set_3d_properties([])\n",
    "    \n",
    "    return start,path,dot\n",
    "    \n",
    "def animate(i):\n",
    "    \n",
    "    start.set_data([x0],[y0])\n",
    "    start.set_3d_properties([f(x0,y0)])\n",
    "    \n",
    "    path.set_data(path_x[0:i],path_y[0:i])\n",
    "    path.set_3d_properties(path_fxy[0:i])\n",
    "    \n",
    "    dot.set_data([path_x[i]],[path_y[i]])\n",
    "    dot.set_3d_properties([path_fxy[i]])\n",
    "    \n",
    "    return start,path,dot\n",
    "\n",
    "ani = animation.FuncAnimation(fig,animate,frames=len(path_x),init_func=init,interval=60,repeat=False)\n",
    "plt.show()"
   ]
  },
  {
   "cell_type": "code",
   "execution_count": null,
   "metadata": {},
   "outputs": [],
   "source": [
    "ani.save('Images/3d_surface_momentum.gif',writer='imagemagick',fps=30,dpi=60)"
   ]
  },
  {
   "cell_type": "code",
   "execution_count": null,
   "metadata": {
    "scrolled": false
   },
   "outputs": [],
   "source": [
    "HTML(ani.to_html5_video())"
   ]
  }
 ],
 "metadata": {
  "kernelspec": {
   "display_name": "Python 3",
   "language": "python",
   "name": "python3"
  },
  "language_info": {
   "codemirror_mode": {
    "name": "ipython",
    "version": 3
   },
   "file_extension": ".py",
   "mimetype": "text/x-python",
   "name": "python",
   "nbconvert_exporter": "python",
   "pygments_lexer": "ipython3",
   "version": "3.8.3"
  }
 },
 "nbformat": 4,
 "nbformat_minor": 2
}
